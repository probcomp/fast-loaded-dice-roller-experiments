{
 "cells": [
  {
   "cell_type": "code",
   "execution_count": 1,
   "metadata": {},
   "outputs": [],
   "source": [
    "%matplotlib inline\n",
    "\n",
    "from glob import glob\n",
    "\n",
    "import matplotlib.pyplot as plt\n",
    "import numpy as np\n",
    "\n",
    "from matplotlib import ticker"
   ]
  },
  {
   "cell_type": "code",
   "execution_count": 2,
   "metadata": {},
   "outputs": [],
   "source": [
    "seed = 418\n",
    "dirname = 'pp.mn.%d' % (seed,)\n",
    "fnames = glob('../%s/*.dist' % (dirname,))"
   ]
  },
  {
   "cell_type": "code",
   "execution_count": 3,
   "metadata": {},
   "outputs": [],
   "source": [
    "Ns = sorted(set([int(f.split('/')[-1].split('.')[1]) for f in fnames]))\n",
    "Ms = sorted(set([int(f.split('/')[-1].split('.')[2]) for f in fnames]))"
   ]
  },
  {
   "cell_type": "code",
   "execution_count": 4,
   "metadata": {},
   "outputs": [],
   "source": [
    "f_aggregates_c = ['../%s/aggregate.%d.preprocess.c' % (dirname, m,) for m in Ms]\n",
    "assert set(f_aggregates_c) == set(glob('../%s/aggregate*.c' % (dirname,)))"
   ]
  },
  {
   "cell_type": "code",
   "execution_count": 5,
   "metadata": {},
   "outputs": [
    {
     "data": {
      "text/plain": [
       "['../pp.mn.418/aggregate.10.preprocess.c',\n",
       " '../pp.mn.418/aggregate.100.preprocess.c',\n",
       " '../pp.mn.418/aggregate.1000.preprocess.c',\n",
       " '../pp.mn.418/aggregate.10000.preprocess.c',\n",
       " '../pp.mn.418/aggregate.100000.preprocess.c',\n",
       " '../pp.mn.418/aggregate.1000000.preprocess.c']"
      ]
     },
     "execution_count": 5,
     "metadata": {},
     "output_type": "execute_result"
    }
   ],
   "source": [
    "f_aggregates_c"
   ]
  },
  {
   "cell_type": "code",
   "execution_count": 6,
   "metadata": {},
   "outputs": [],
   "source": [
    "runtimes_c = [np.loadtxt(f, usecols=(1,2)) for f in f_aggregates_c]"
   ]
  },
  {
   "cell_type": "code",
   "execution_count": 7,
   "metadata": {},
   "outputs": [],
   "source": [
    "plt.rcParams['text.usetex'] = True\n",
    "plt.rcParams['font.family'] = 'sans-serif'"
   ]
  },
  {
   "cell_type": "code",
   "execution_count": 8,
   "metadata": {},
   "outputs": [
    {
     "data": {
      "image/png": "[encoded data removed]",
      "text/plain": [
       "<Figure size 417.6x201.6 with 3 Axes>"
      ]
     },
     "metadata": {
      "needs_background": "light"
     },
     "output_type": "display_data"
    }
   ],
   "source": [
    "fig, axes = plt.subplots(ncols=3);\n",
    "\n",
    "i = 0;\n",
    "selections = [1000, 10000, 1000000]\n",
    "Ms_plot = [(a, b) for a, b in enumerate(Ms) if b in selections]\n",
    "for j, M in Ms_plot:\n",
    "\n",
    "    ax = axes[i]; i += 1\n",
    "    C = runtimes_c[j]\n",
    "\n",
    "    ns = [n for n in Ns if n < M]\n",
    "\n",
    "    # For large distributions some of the ns fail in GSL.\n",
    "    assert len(C) <= len(ns) \n",
    "\n",
    "    c = len(C)\n",
    "    xs = ns[:c]\n",
    "    c0 = ax.scatter([], [], marker='.', s=50,\n",
    "        label=r'\\noindent\\textbf{GNU GSL}\\\\\\textbf{Floating-Point}\\\\\\textbf{Alias Sampler}')\n",
    "    c1 = ax.scatter([], [], marker='.', s=50,\n",
    "        label=r'\\textbf{FLDR}')\n",
    "\n",
    "    ax.scatter(xs, C[:,1], marker='.', s=10, color=c0.get_facecolors()[0])\n",
    "    ax.scatter(xs, C[:,0], marker='.', s=10, color=c1.get_facecolors()[0])\n",
    "\n",
    "    ax.set_yscale('log', basey=2)\n",
    "    ax.set_xscale('log', basex=10)\n",
    "    ax.set_ylim([2**-19, 2**-6])\n",
    "    ax.set_xlim([10**0, .5*10**5])\n",
    "\n",
    "    ax.set_xlabel('Dimension $n$', fontsize=14)\n",
    "    ax.set_title('$m = %d$' % (M,), fontsize=14)\n",
    "\n",
    "axes[0].set_ylabel('Preprocessing Time (Sec)', fontsize=12)\n",
    "axes[0].legend(\n",
    "    loc='upper left', framealpha=0, handletextpad=-.1,\n",
    "    bbox_to_anchor=(-.05, 1.02))\n",
    "\n",
    "for i in [1, 2]:\n",
    "    axes[i].set_yticklabels([])\n",
    "\n",
    "for i in [0, 1, 2]:\n",
    "    axes[i].yaxis.set_minor_formatter(ticker.NullFormatter())\n",
    "    axes[i].yaxis.set_major_locator(ticker.LogLocator(base=2, subs=[1], numticks=10))\n",
    "    axes[i].yaxis.set_minor_locator(ticker.LogLocator(base=2, subs=[1], numticks=100))\n",
    "    \n",
    "    axes[i].xaxis.set_minor_formatter(ticker.NullFormatter())\n",
    "    axes[i].xaxis.set_major_locator(ticker.LogLocator(base=10, subs=[1], numticks=10))\n",
    "    axes[i].xaxis.set_minor_locator(ticker.LogLocator(base=10, subs=np.arange(1, 10)*.1, numticks=100))\n",
    "\n",
    "    # axes[i].grid(which='both', color='black', alpha=.1, linestyle='-')\n",
    "\n",
    "fig.set_size_inches(5.8, 2.8)\n",
    "fig.set_tight_layout(True)\n",
    "for ext in ['pdf', 'png']:\n",
    "    fig.savefig('figure-5-preprocessing-time.%s' % (ext,))"
   ]
  }
 ],
 "metadata": {
  "kernelspec": {
   "display_name": "Python 3",
   "language": "python",
   "name": "python3"
  },
  "language_info": {
   "codemirror_mode": {
    "name": "ipython",
    "version": 3
   },
   "file_extension": ".py",
   "mimetype": "text/x-python",
   "name": "python",
   "nbconvert_exporter": "python",
   "pygments_lexer": "ipython3",
   "version": "3.5.2"
  }
 },
 "nbformat": 4,
 "nbformat_minor": 2
}
